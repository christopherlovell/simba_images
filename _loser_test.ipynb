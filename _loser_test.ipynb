{
 "cells": [
  {
   "cell_type": "code",
   "execution_count": null,
   "metadata": {},
   "outputs": [
    {
     "name": "stderr",
     "output_type": "stream",
     "text": [
      "yt : [INFO     ] 2020-11-12 12:07:40,944 Calculating time from 3.306e-01 to be 1.036e+17 seconds\n",
      "yt : [INFO     ] 2020-11-12 12:07:40,949 Assuming length units are in kpc/h (comoving)\n",
      "yt : [INFO     ] 2020-11-12 12:07:41,013 Parameters: current_time              = 1.0357634221669792e+17 s\n",
      "yt : [INFO     ] 2020-11-12 12:07:41,017 Parameters: domain_dimensions         = [2 2 2]\n",
      "yt : [INFO     ] 2020-11-12 12:07:41,021 Parameters: domain_left_edge          = [0. 0. 0.]\n",
      "yt : [INFO     ] 2020-11-12 12:07:41,024 Parameters: domain_right_edge         = [100000. 100000. 100000.]\n",
      "yt : [INFO     ] 2020-11-12 12:07:41,028 Parameters: cosmological_simulation   = 1\n",
      "yt : [INFO     ] 2020-11-12 12:07:41,031 Parameters: current_redshift          = 2.0246204127063745\n",
      "yt : [INFO     ] 2020-11-12 12:07:41,034 Parameters: omega_lambda              = 0.7\n",
      "yt : [INFO     ] 2020-11-12 12:07:41,038 Parameters: omega_matter              = 0.3\n",
      "yt : [INFO     ] 2020-11-12 12:07:41,041 Parameters: omega_radiation           = 0.0\n",
      "yt : [INFO     ] 2020-11-12 12:07:41,042 Parameters: hubble_constant           = 0.68\n",
      "yt : [INFO     ] 2020-11-12 12:07:41,101 Opening /orange/narayanan/desika.narayanan/gizmo_runs/simba/m100n1024/Groups/m100n1024_078.hdf5\n",
      "yt : [INFO     ] 2020-11-12 12:07:41,772 Found 545417 halos\n",
      "yt : [INFO     ] 2020-11-12 12:07:42,892 Found 30743 galaxies\n",
      "yt : [INFO     ] 2020-11-12 12:07:42,908 Loading gas and star particles for photometry, RAM=0.165 GB\n",
      "yt : [INFO     ] 2020-11-12 12:07:42,915 Allocating for 2.147e+09 particles (index particle type 'all')\n"
     ]
    }
   ],
   "source": [
    "import yt\n",
    "\n",
    "import caesar \n",
    "from caesar.pyloser.pyloser import photometry\n",
    "\n",
    "from simba import simba \n",
    "sb = simba() \n",
    "\n",
    "snap = '078'\n",
    "\n",
    "# ds  = yt.load('/blue/narayanan/c.lovell/simba/m100n1024/out/snap_078/subset_00000.h5')\n",
    "ds  = yt.load('/orange/narayanan/desika.narayanan/gizmo_runs/simba/m100n1024/snap_m100n1024_078.hdf5')\n",
    "cs = caesar.load('%sm100n1024_%s.hdf5'%(sb.cs_directory,snap))\n",
    "galphot = photometry(cs,0,ds=ds,band_names=['b','v'])"
   ]
  },
  {
   "cell_type": "code",
   "execution_count": null,
   "metadata": {},
   "outputs": [],
   "source": [
    "galphot"
   ]
  },
  {
   "cell_type": "code",
   "execution_count": null,
   "metadata": {},
   "outputs": [],
   "source": []
  }
 ],
 "metadata": {
  "kernelspec": {
   "display_name": "Python 3",
   "language": "python",
   "name": "python3"
  },
  "language_info": {
   "codemirror_mode": {
    "name": "ipython",
    "version": 3
   },
   "file_extension": ".py",
   "mimetype": "text/x-python",
   "name": "python",
   "nbconvert_exporter": "python",
   "pygments_lexer": "ipython3",
   "version": "3.8.3"
  }
 },
 "nbformat": 4,
 "nbformat_minor": 4
}
